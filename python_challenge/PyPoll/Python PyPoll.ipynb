{
 "cells": [
  {
   "cell_type": "code",
   "execution_count": 7,
   "metadata": {},
   "outputs": [
    {
     "name": "stdout",
     "output_type": "stream",
     "text": [
      "Election Results:\n",
      "Total Votes: 3521002\n",
      "Khan: 63.000%  (2218231)\n",
      "Correy: 20.000%  (704200)\n",
      "Li: 14.000%  (492940)\n",
      "O'Tooley: 3.000%  (105630)\n",
      "Winner: O'Tooley\n"
     ]
    }
   ],
   "source": [
    "import os\n",
    "import csv\n",
    "\n",
    "electionfile = os.path.join('..','Resources','election_data.csv')\n",
    "\n",
    "totalcount = 0; khancount = 0; correycount = 0; licount = 0; otooleycount = 0; max_count = 0\n",
    "\n",
    "#Function for % calculation\n",
    "def percentage (part, whole):\n",
    "    return 100 * float(part)/float(whole)\n",
    "\n",
    "#Open and read CSV file\n",
    "with open(electionfile, newline='') as csvfile:\n",
    "     csvreader = csv.reader(csvfile, delimiter=',')\n",
    "\n",
    "     for i in csvreader:\n",
    "         voterid = i[0]\n",
    "         country = i[1]\n",
    "         candidate = i[2]\n",
    "         totalcount = totalcount + 1\n",
    "\n",
    "         if candidate ==\"Khan\":\n",
    "            khancount = khancount + 1\n",
    "         if candidate ==\"Correy\":\n",
    "            correycount = correycount + 1\n",
    "         if candidate ==\"Li\":\n",
    "            licount = licount + 1\n",
    "         if candidate ==\"O'Tooley\":\n",
    "            otooleycount = otooleycount + 1\n",
    "            \n",
    "# Define (dictionary) list : candidate and votes\n",
    "     candidates = {\"Khan\": khancount,\"Correy\": correycount,\"Li\" :licount, \"O'Tooley\": otooleycount}\n",
    "     # Find winner \n",
    "     for candidate, value in candidates.items():\n",
    "         if value > max_count:\n",
    "            max_ount = value\n",
    "            winner = candidate\n",
    "# Display results       \n",
    "print(f'Election Results:')\n",
    "print(f'Total Votes: {totalcount}')\n",
    "\n",
    "print(f'Khan: {percentage(kcount,totalcount):.3f}%  ({kcount})')\n",
    "print(f'Correy: {percentage(ccount,totalcount):.3f}%  ({ccount})')\n",
    "print(f'Li: {percentage(lcount,totalcount):.3f}%  ({lcount})')\n",
    "print(f'O\\'Tooley: {percentage(ocount,totalcount):.3f}%  ({ocount})')\n",
    "print(f'Winner: {winner}')"
   ]
  },
  {
   "cell_type": "code",
   "execution_count": null,
   "metadata": {},
   "outputs": [],
   "source": []
  }
 ],
 "metadata": {
  "kernelspec": {
   "display_name": "Python 3",
   "language": "python",
   "name": "python3"
  },
  "language_info": {
   "codemirror_mode": {
    "name": "ipython",
    "version": 3
   },
   "file_extension": ".py",
   "mimetype": "text/x-python",
   "name": "python",
   "nbconvert_exporter": "python",
   "pygments_lexer": "ipython3",
   "version": "3.7.3"
  }
 },
 "nbformat": 4,
 "nbformat_minor": 2
}
