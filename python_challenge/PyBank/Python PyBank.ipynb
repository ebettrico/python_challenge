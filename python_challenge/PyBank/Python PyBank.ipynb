{
 "cells": [
  {
   "cell_type": "code",
   "execution_count": 3,
   "metadata": {},
   "outputs": [
    {
     "name": "stdout",
     "output_type": "stream",
     "text": [
      "Financial Analysis:\n",
      "Total Months: 86\n",
      "Total: $38382578\n",
      "Average Change: -2315.12\n",
      "Greatest Increase in Profits: Feb-2012 ($1926159)\n",
      "Greatest Decrease in Profits: Sep-2013 ($-2196167)\n"
     ]
    }
   ],
   "source": [
    "import os\n",
    "import csv\n",
    "\n",
    "csvpath = os.path.join('..', \"Resources\", \"budget_data.csv\")\n",
    "\n",
    "total_months = []\n",
    "total_prof = []\n",
    "monthly_prof_change = []\n",
    "\n",
    "with open(csvpath,newline=\"\") as budget:\n",
    "    csvreader = csv.reader(budget,delimiter=\",\") \n",
    "\n",
    "    header = next(csvreader)  \n",
    "\n",
    "    for row in csvreader: \n",
    "        total_months.append(row[0])\n",
    "        total_prof.append(int(row[1]))\n",
    "    for i in range(len(total_prof)-1):\n",
    "        \n",
    "        monthly_prof_change.append(total_prof[i+1]-total_prof[i])\n",
    "\n",
    "max_increase_value = max(monthly_prof_change)\n",
    "max_decrease_value = min(monthly_prof_change)\n",
    "\n",
    "max_increase_month = monthly_prof_change.index(max(monthly_prof_change)) + 1\n",
    "max_decrease_month = monthly_prof_change.index(min(monthly_prof_change)) + 1 \n",
    "\n",
    "\n",
    "print(\"Financial Analysis:\")\n",
    "print(f\"Total Months: {len(total_months)}\")\n",
    "print(f\"Total: ${sum(total_profit)}\")\n",
    "print(f\"Average Change: {round(sum(monthly_profit_change)/len(monthly_profit_change),2)}\")\n",
    "print(f\"Greatest Increase in Profits: {total_months[max_increase_month]} (${(str(max_increase_value))})\")\n",
    "print(f\"Greatest Decrease in Profits: {total_months[max_decrease_month]} (${(str(max_decrease_value))})\")\n"
   ]
  },
  {
   "cell_type": "code",
   "execution_count": null,
   "metadata": {},
   "outputs": [],
   "source": []
  }
 ],
 "metadata": {
  "kernelspec": {
   "display_name": "Python 3",
   "language": "python",
   "name": "python3"
  },
  "language_info": {
   "codemirror_mode": {
    "name": "ipython",
    "version": 3
   },
   "file_extension": ".py",
   "mimetype": "text/x-python",
   "name": "python",
   "nbconvert_exporter": "python",
   "pygments_lexer": "ipython3",
   "version": "3.7.3"
  }
 },
 "nbformat": 4,
 "nbformat_minor": 2
}
